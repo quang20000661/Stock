{
 "cells": [
  {
   "cell_type": "code",
   "execution_count": 1,
   "id": "1726560f",
   "metadata": {},
   "outputs": [],
   "source": [
    "import time\n",
    "import numpy as np\n",
    "import pandas as pd\n",
    "import re\n",
    "import random\n",
    "import seaborn as sns\n",
    "import matplotlib.pyplot as plt\n",
    "%matplotlib inline"
   ]
  },
  {
   "cell_type": "code",
   "execution_count": 2,
   "id": "a85d964c",
   "metadata": {},
   "outputs": [
    {
     "data": {
      "text/html": [
       "<div>\n",
       "<style scoped>\n",
       "    .dataframe tbody tr th:only-of-type {\n",
       "        vertical-align: middle;\n",
       "    }\n",
       "\n",
       "    .dataframe tbody tr th {\n",
       "        vertical-align: top;\n",
       "    }\n",
       "\n",
       "    .dataframe thead th {\n",
       "        text-align: right;\n",
       "    }\n",
       "</style>\n",
       "<table border=\"1\" class=\"dataframe\">\n",
       "  <thead>\n",
       "    <tr style=\"text-align: right;\">\n",
       "      <th></th>\n",
       "      <th>date</th>\n",
       "      <th>close</th>\n",
       "      <th>volume</th>\n",
       "      <th>open</th>\n",
       "      <th>high</th>\n",
       "      <th>low</th>\n",
       "    </tr>\n",
       "  </thead>\n",
       "  <tbody>\n",
       "    <tr>\n",
       "      <th>0</th>\n",
       "      <td>11:34</td>\n",
       "      <td>270.49</td>\n",
       "      <td>4,787,699</td>\n",
       "      <td>264.50</td>\n",
       "      <td>273.88</td>\n",
       "      <td>262.2400</td>\n",
       "    </tr>\n",
       "    <tr>\n",
       "      <th>1</th>\n",
       "      <td>2018/10/15</td>\n",
       "      <td>259.59</td>\n",
       "      <td>6189026.0000</td>\n",
       "      <td>259.06</td>\n",
       "      <td>263.28</td>\n",
       "      <td>254.5367</td>\n",
       "    </tr>\n",
       "    <tr>\n",
       "      <th>2</th>\n",
       "      <td>2018/10/12</td>\n",
       "      <td>258.78</td>\n",
       "      <td>7189257.0000</td>\n",
       "      <td>261.00</td>\n",
       "      <td>261.99</td>\n",
       "      <td>252.0100</td>\n",
       "    </tr>\n",
       "    <tr>\n",
       "      <th>3</th>\n",
       "      <td>2018/10/11</td>\n",
       "      <td>252.23</td>\n",
       "      <td>8128184.0000</td>\n",
       "      <td>257.53</td>\n",
       "      <td>262.25</td>\n",
       "      <td>249.0300</td>\n",
       "    </tr>\n",
       "    <tr>\n",
       "      <th>4</th>\n",
       "      <td>2018/10/10</td>\n",
       "      <td>256.88</td>\n",
       "      <td>12781560.0000</td>\n",
       "      <td>264.61</td>\n",
       "      <td>265.51</td>\n",
       "      <td>247.7700</td>\n",
       "    </tr>\n",
       "  </tbody>\n",
       "</table>\n",
       "</div>"
      ],
      "text/plain": [
       "         date   close         volume    open    high       low\n",
       "0       11:34  270.49      4,787,699  264.50  273.88  262.2400\n",
       "1  2018/10/15  259.59   6189026.0000  259.06  263.28  254.5367\n",
       "2  2018/10/12  258.78   7189257.0000  261.00  261.99  252.0100\n",
       "3  2018/10/11  252.23   8128184.0000  257.53  262.25  249.0300\n",
       "4  2018/10/10  256.88  12781560.0000  264.61  265.51  247.7700"
      ]
     },
     "execution_count": 2,
     "metadata": {},
     "output_type": "execute_result"
    }
   ],
   "source": [
    "df = pd.read_csv('stock1.csv')\n",
    "df.head(5)"
   ]
  },
  {
   "cell_type": "code",
   "execution_count": 4,
   "id": "65361883",
   "metadata": {},
   "outputs": [
    {
     "data": {
      "text/html": [
       "<div>\n",
       "<style scoped>\n",
       "    .dataframe tbody tr th:only-of-type {\n",
       "        vertical-align: middle;\n",
       "    }\n",
       "\n",
       "    .dataframe tbody tr th {\n",
       "        vertical-align: top;\n",
       "    }\n",
       "\n",
       "    .dataframe thead th {\n",
       "        text-align: right;\n",
       "    }\n",
       "</style>\n",
       "<table border=\"1\" class=\"dataframe\">\n",
       "  <thead>\n",
       "    <tr style=\"text-align: right;\">\n",
       "      <th></th>\n",
       "      <th>date</th>\n",
       "      <th>close</th>\n",
       "      <th>volume</th>\n",
       "      <th>open</th>\n",
       "      <th>high</th>\n",
       "      <th>low</th>\n",
       "      <th>Open_Close</th>\n",
       "      <th>High_Low</th>\n",
       "      <th>Buy_Sell</th>\n",
       "      <th>Returns</th>\n",
       "    </tr>\n",
       "  </thead>\n",
       "  <tbody>\n",
       "    <tr>\n",
       "      <th>1</th>\n",
       "      <td>2018/10/15</td>\n",
       "      <td>259.59</td>\n",
       "      <td>6189026.0000</td>\n",
       "      <td>259.06</td>\n",
       "      <td>263.28</td>\n",
       "      <td>254.5367</td>\n",
       "      <td>-0.002046</td>\n",
       "      <td>0.034350</td>\n",
       "      <td>0</td>\n",
       "      <td>-0.040297</td>\n",
       "    </tr>\n",
       "    <tr>\n",
       "      <th>2</th>\n",
       "      <td>2018/10/12</td>\n",
       "      <td>258.78</td>\n",
       "      <td>7189257.0000</td>\n",
       "      <td>261.00</td>\n",
       "      <td>261.99</td>\n",
       "      <td>252.0100</td>\n",
       "      <td>0.008506</td>\n",
       "      <td>0.039602</td>\n",
       "      <td>0</td>\n",
       "      <td>-0.003120</td>\n",
       "    </tr>\n",
       "    <tr>\n",
       "      <th>3</th>\n",
       "      <td>2018/10/11</td>\n",
       "      <td>252.23</td>\n",
       "      <td>8128184.0000</td>\n",
       "      <td>257.53</td>\n",
       "      <td>262.25</td>\n",
       "      <td>249.0300</td>\n",
       "      <td>0.020580</td>\n",
       "      <td>0.053086</td>\n",
       "      <td>1</td>\n",
       "      <td>-0.025311</td>\n",
       "    </tr>\n",
       "    <tr>\n",
       "      <th>4</th>\n",
       "      <td>2018/10/10</td>\n",
       "      <td>256.88</td>\n",
       "      <td>12781560.0000</td>\n",
       "      <td>264.61</td>\n",
       "      <td>265.51</td>\n",
       "      <td>247.7700</td>\n",
       "      <td>0.029213</td>\n",
       "      <td>0.071599</td>\n",
       "      <td>1</td>\n",
       "      <td>0.018436</td>\n",
       "    </tr>\n",
       "    <tr>\n",
       "      <th>5</th>\n",
       "      <td>2018/10/09</td>\n",
       "      <td>262.80</td>\n",
       "      <td>12037780.0000</td>\n",
       "      <td>255.25</td>\n",
       "      <td>266.77</td>\n",
       "      <td>253.3000</td>\n",
       "      <td>-0.029579</td>\n",
       "      <td>0.053178</td>\n",
       "      <td>0</td>\n",
       "      <td>0.023046</td>\n",
       "    </tr>\n",
       "  </tbody>\n",
       "</table>\n",
       "</div>"
      ],
      "text/plain": [
       "         date   close         volume    open    high       low  Open_Close  \\\n",
       "1  2018/10/15  259.59   6189026.0000  259.06  263.28  254.5367   -0.002046   \n",
       "2  2018/10/12  258.78   7189257.0000  261.00  261.99  252.0100    0.008506   \n",
       "3  2018/10/11  252.23   8128184.0000  257.53  262.25  249.0300    0.020580   \n",
       "4  2018/10/10  256.88  12781560.0000  264.61  265.51  247.7700    0.029213   \n",
       "5  2018/10/09  262.80  12037780.0000  255.25  266.77  253.3000   -0.029579   \n",
       "\n",
       "   High_Low  Buy_Sell   Returns  \n",
       "1  0.034350         0 -0.040297  \n",
       "2  0.039602         0 -0.003120  \n",
       "3  0.053086         1 -0.025311  \n",
       "4  0.071599         1  0.018436  \n",
       "5  0.053178         0  0.023046  "
      ]
     },
     "execution_count": 4,
     "metadata": {},
     "output_type": "execute_result"
    }
   ],
   "source": [
    "df['Open_Close'] = (df['open'] - df['close'])/df['open']\n",
    "df['High_Low'] = (df['high'] - df['low'])/df['low']\n",
    "df['Buy_Sell'] = np.where(df['close'].shift(-1) > df['close'],1,0)\n",
    "df['Returns'] = df['close'].pct_change()\n",
    "df = df.dropna()\n",
    "df.head()"
   ]
  },
  {
   "cell_type": "code",
   "execution_count": 5,
   "id": "c4132202",
   "metadata": {},
   "outputs": [],
   "source": [
    "from sklearn.model_selection import StratifiedShuffleSplit\n",
    "from sklearn.datasets import make_classification\n",
    "from sklearn.model_selection import train_test_split\n",
    "from sklearn.metrics import accuracy_score, confusion_matrix\n",
    "from datetime import datetime"
   ]
  },
  {
   "cell_type": "code",
   "execution_count": 6,
   "id": "ccb48c9c",
   "metadata": {},
   "outputs": [],
   "source": [
    "from sklearn.ensemble import AdaBoostClassifier\n"
   ]
  },
  {
   "cell_type": "code",
   "execution_count": 8,
   "id": "9f1ff9df",
   "metadata": {},
   "outputs": [],
   "source": [
    "# Tách dữ liệu thành features và labels\n",
    "X = df[['open', 'high', 'low', 'volume', 'close','Returns']].values\n",
    "y = df['Buy_Sell'].values\n",
    "\n",
    "# Chia dữ liệu thành tập huấn luyện và tập kiểm tra\n",
    "X_train, X_test, y_train, y_test = train_test_split(X, y, test_size=0.2, random_state=42)"
   ]
  },
  {
   "cell_type": "code",
   "execution_count": 9,
   "id": "f93be2b9",
   "metadata": {},
   "outputs": [
    {
     "name": "stdout",
     "output_type": "stream",
     "text": [
      "Accuracy: 0.6052631578947368\n"
     ]
    }
   ],
   "source": [
    "# Khởi tạo mô hình AdaBoost và huấn luyện\n",
    "adaboost = AdaBoostClassifier(n_estimators=50, random_state=42)\n",
    "adaboost.fit(X_train, y_train)\n",
    "\n",
    "# Dự đoán nhãn cho tập kiểm tra\n",
    "ada_pred = adaboost.predict(X_test)\n",
    "\n",
    "# Đánh giá độ chính xác\n",
    "ada_accuracy = accuracy_score(y_test, ada_pred)\n",
    "print(\"Accuracy:\", ada_accuracy)"
   ]
  },
  {
   "cell_type": "code",
   "execution_count": 10,
   "id": "f95c6333",
   "metadata": {},
   "outputs": [],
   "source": [
    "from sklearn.ensemble import GradientBoostingClassifier\n"
   ]
  },
  {
   "cell_type": "code",
   "execution_count": 9,
   "id": "c14d3d20",
   "metadata": {},
   "outputs": [
    {
     "name": "stdout",
     "output_type": "stream",
     "text": [
      "Accuracy: 0.9717261904761905\n"
     ]
    }
   ],
   "source": [
    "# Khởi tạo mô hình Gradient Boost và huấn luyện\n",
    "gbm = GradientBoostingClassifier(n_estimators=100, learning_rate=0.1, random_state=42)\n",
    "gbm.fit(X_train, y_train)\n",
    "\n",
    "# Dự đoán nhãn cho tập kiểm tra\n",
    "gbm_pred = gbm.predict(X_test)\n",
    "\n",
    "# Đánh giá độ chính xác\n",
    "gbm_accuracy = accuracy_score(y_test, gbm_pred)\n",
    "print(\"Accuracy:\", gbm_accuracy)"
   ]
  },
  {
   "cell_type": "code",
   "execution_count": 11,
   "id": "c9d1694c",
   "metadata": {},
   "outputs": [],
   "source": [
    "from sklearn.svm import SVC\n"
   ]
  },
  {
   "cell_type": "code",
   "execution_count": 12,
   "id": "7ac4b494",
   "metadata": {},
   "outputs": [
    {
     "name": "stdout",
     "output_type": "stream",
     "text": [
      "Accuracy: 0.4605263157894737\n"
     ]
    }
   ],
   "source": [
    "# Khởi tạo mô hình SVM và huấn luyện\n",
    "svm = SVC()\n",
    "svm.fit(X_train, y_train)\n",
    "\n",
    "# Dự đoán nhãn cho tập kiểm tra\n",
    "svm_pred = svm.predict(X_test)\n",
    "\n",
    "# Đánh giá độ chính xác\n",
    "svm_accuracy = accuracy_score(y_test, svm_pred)\n",
    "print(\"Accuracy:\", svm_accuracy)"
   ]
  },
  {
   "cell_type": "code",
   "execution_count": 14,
   "id": "313b5368",
   "metadata": {},
   "outputs": [
    {
     "name": "stdout",
     "output_type": "stream",
     "text": [
      "Accuracy: 0.47368421052631576\n"
     ]
    }
   ],
   "source": [
    "from sklearn.neural_network import MLPClassifier\n",
    "from sklearn.model_selection import train_test_split\n",
    "from sklearn.preprocessing import StandardScaler\n",
    "from sklearn.metrics import accuracy_score\n",
    "\n",
    "# Tiêu chuẩn hóa dữ liệu\n",
    "scaler = StandardScaler()\n",
    "X_train = scaler.fit_transform(X_train)\n",
    "X_test = scaler.transform(X_test)\n",
    "\n",
    "# Khởi tạo mô hình MLPClassifier\n",
    "model = MLPClassifier(hidden_layer_sizes=(13,13,13),max_iter=500)\n",
    "\n",
    "# Huấn luyện mô hình\n",
    "model.fit(X_train, y_train)\n",
    "\n",
    "# Dự đoán nhãn cho tập kiểm tra\n",
    "ann_pred = model.predict(X_test)\n",
    "\n",
    "# Đánh giá độ chính xác\n",
    "ann_accuracy = accuracy_score(y_test, ann_pred)\n",
    "print(\"Accuracy:\", ann_accuracy)\n"
   ]
  },
  {
   "cell_type": "code",
   "execution_count": 13,
   "id": "8c8b9abb",
   "metadata": {},
   "outputs": [
    {
     "ename": "ValueError",
     "evalue": "Length of values (2016) does not match length of index (10079)",
     "output_type": "error",
     "traceback": [
      "\u001b[1;31m---------------------------------------------------------------------------\u001b[0m",
      "\u001b[1;31mValueError\u001b[0m                                Traceback (most recent call last)",
      "\u001b[1;32m~\\AppData\\Local\\Temp\\ipykernel_17844\\882418563.py\u001b[0m in \u001b[0;36m<module>\u001b[1;34m\u001b[0m\n\u001b[1;32m----> 1\u001b[1;33m \u001b[0mdf\u001b[0m\u001b[1;33m[\u001b[0m\u001b[1;34m'a'\u001b[0m\u001b[1;33m]\u001b[0m \u001b[1;33m=\u001b[0m \u001b[0mada_pred\u001b[0m\u001b[1;33m\u001b[0m\u001b[1;33m\u001b[0m\u001b[0m\n\u001b[0m\u001b[0;32m      2\u001b[0m \u001b[0mdf\u001b[0m\u001b[1;33m[\u001b[0m\u001b[1;34m'b'\u001b[0m\u001b[1;33m]\u001b[0m \u001b[1;33m=\u001b[0m \u001b[0mgbm_pred\u001b[0m\u001b[1;33m\u001b[0m\u001b[1;33m\u001b[0m\u001b[0m\n\u001b[0;32m      3\u001b[0m \u001b[0mdf\u001b[0m\u001b[1;33m[\u001b[0m\u001b[1;34m'c'\u001b[0m\u001b[1;33m]\u001b[0m \u001b[1;33m=\u001b[0m \u001b[0msvm_pred\u001b[0m\u001b[1;33m\u001b[0m\u001b[1;33m\u001b[0m\u001b[0m\n\u001b[0;32m      4\u001b[0m \u001b[0mdf\u001b[0m\u001b[1;33m[\u001b[0m\u001b[1;34m'd'\u001b[0m\u001b[1;33m]\u001b[0m \u001b[1;33m=\u001b[0m \u001b[0mann_pred\u001b[0m\u001b[1;33m\u001b[0m\u001b[1;33m\u001b[0m\u001b[0m\n\u001b[0;32m      5\u001b[0m \u001b[0mdf\u001b[0m\u001b[1;33m.\u001b[0m\u001b[0mhead\u001b[0m\u001b[1;33m(\u001b[0m\u001b[1;33m)\u001b[0m\u001b[1;33m\u001b[0m\u001b[1;33m\u001b[0m\u001b[0m\n",
      "\u001b[1;32mC:\\ProgramData\\Anaconda3\\lib\\site-packages\\pandas\\core\\frame.py\u001b[0m in \u001b[0;36m__setitem__\u001b[1;34m(self, key, value)\u001b[0m\n\u001b[0;32m   3653\u001b[0m         \u001b[1;32melse\u001b[0m\u001b[1;33m:\u001b[0m\u001b[1;33m\u001b[0m\u001b[1;33m\u001b[0m\u001b[0m\n\u001b[0;32m   3654\u001b[0m             \u001b[1;31m# set column\u001b[0m\u001b[1;33m\u001b[0m\u001b[1;33m\u001b[0m\u001b[0m\n\u001b[1;32m-> 3655\u001b[1;33m             \u001b[0mself\u001b[0m\u001b[1;33m.\u001b[0m\u001b[0m_set_item\u001b[0m\u001b[1;33m(\u001b[0m\u001b[0mkey\u001b[0m\u001b[1;33m,\u001b[0m \u001b[0mvalue\u001b[0m\u001b[1;33m)\u001b[0m\u001b[1;33m\u001b[0m\u001b[1;33m\u001b[0m\u001b[0m\n\u001b[0m\u001b[0;32m   3656\u001b[0m \u001b[1;33m\u001b[0m\u001b[0m\n\u001b[0;32m   3657\u001b[0m     \u001b[1;32mdef\u001b[0m \u001b[0m_setitem_slice\u001b[0m\u001b[1;33m(\u001b[0m\u001b[0mself\u001b[0m\u001b[1;33m,\u001b[0m \u001b[0mkey\u001b[0m\u001b[1;33m:\u001b[0m \u001b[0mslice\u001b[0m\u001b[1;33m,\u001b[0m \u001b[0mvalue\u001b[0m\u001b[1;33m)\u001b[0m\u001b[1;33m:\u001b[0m\u001b[1;33m\u001b[0m\u001b[1;33m\u001b[0m\u001b[0m\n",
      "\u001b[1;32mC:\\ProgramData\\Anaconda3\\lib\\site-packages\\pandas\\core\\frame.py\u001b[0m in \u001b[0;36m_set_item\u001b[1;34m(self, key, value)\u001b[0m\n\u001b[0;32m   3830\u001b[0m         \u001b[0mensure\u001b[0m \u001b[0mhomogeneity\u001b[0m\u001b[1;33m.\u001b[0m\u001b[1;33m\u001b[0m\u001b[1;33m\u001b[0m\u001b[0m\n\u001b[0;32m   3831\u001b[0m         \"\"\"\n\u001b[1;32m-> 3832\u001b[1;33m         \u001b[0mvalue\u001b[0m \u001b[1;33m=\u001b[0m \u001b[0mself\u001b[0m\u001b[1;33m.\u001b[0m\u001b[0m_sanitize_column\u001b[0m\u001b[1;33m(\u001b[0m\u001b[0mvalue\u001b[0m\u001b[1;33m)\u001b[0m\u001b[1;33m\u001b[0m\u001b[1;33m\u001b[0m\u001b[0m\n\u001b[0m\u001b[0;32m   3833\u001b[0m \u001b[1;33m\u001b[0m\u001b[0m\n\u001b[0;32m   3834\u001b[0m         if (\n",
      "\u001b[1;32mC:\\ProgramData\\Anaconda3\\lib\\site-packages\\pandas\\core\\frame.py\u001b[0m in \u001b[0;36m_sanitize_column\u001b[1;34m(self, value)\u001b[0m\n\u001b[0;32m   4536\u001b[0m \u001b[1;33m\u001b[0m\u001b[0m\n\u001b[0;32m   4537\u001b[0m         \u001b[1;32mif\u001b[0m \u001b[0mis_list_like\u001b[0m\u001b[1;33m(\u001b[0m\u001b[0mvalue\u001b[0m\u001b[1;33m)\u001b[0m\u001b[1;33m:\u001b[0m\u001b[1;33m\u001b[0m\u001b[1;33m\u001b[0m\u001b[0m\n\u001b[1;32m-> 4538\u001b[1;33m             \u001b[0mcom\u001b[0m\u001b[1;33m.\u001b[0m\u001b[0mrequire_length_match\u001b[0m\u001b[1;33m(\u001b[0m\u001b[0mvalue\u001b[0m\u001b[1;33m,\u001b[0m \u001b[0mself\u001b[0m\u001b[1;33m.\u001b[0m\u001b[0mindex\u001b[0m\u001b[1;33m)\u001b[0m\u001b[1;33m\u001b[0m\u001b[1;33m\u001b[0m\u001b[0m\n\u001b[0m\u001b[0;32m   4539\u001b[0m         \u001b[1;32mreturn\u001b[0m \u001b[0msanitize_array\u001b[0m\u001b[1;33m(\u001b[0m\u001b[0mvalue\u001b[0m\u001b[1;33m,\u001b[0m \u001b[0mself\u001b[0m\u001b[1;33m.\u001b[0m\u001b[0mindex\u001b[0m\u001b[1;33m,\u001b[0m \u001b[0mcopy\u001b[0m\u001b[1;33m=\u001b[0m\u001b[1;32mTrue\u001b[0m\u001b[1;33m,\u001b[0m \u001b[0mallow_2d\u001b[0m\u001b[1;33m=\u001b[0m\u001b[1;32mTrue\u001b[0m\u001b[1;33m)\u001b[0m\u001b[1;33m\u001b[0m\u001b[1;33m\u001b[0m\u001b[0m\n\u001b[0;32m   4540\u001b[0m \u001b[1;33m\u001b[0m\u001b[0m\n",
      "\u001b[1;32mC:\\ProgramData\\Anaconda3\\lib\\site-packages\\pandas\\core\\common.py\u001b[0m in \u001b[0;36mrequire_length_match\u001b[1;34m(data, index)\u001b[0m\n\u001b[0;32m    555\u001b[0m     \"\"\"\n\u001b[0;32m    556\u001b[0m     \u001b[1;32mif\u001b[0m \u001b[0mlen\u001b[0m\u001b[1;33m(\u001b[0m\u001b[0mdata\u001b[0m\u001b[1;33m)\u001b[0m \u001b[1;33m!=\u001b[0m \u001b[0mlen\u001b[0m\u001b[1;33m(\u001b[0m\u001b[0mindex\u001b[0m\u001b[1;33m)\u001b[0m\u001b[1;33m:\u001b[0m\u001b[1;33m\u001b[0m\u001b[1;33m\u001b[0m\u001b[0m\n\u001b[1;32m--> 557\u001b[1;33m         raise ValueError(\n\u001b[0m\u001b[0;32m    558\u001b[0m             \u001b[1;34m\"Length of values \"\u001b[0m\u001b[1;33m\u001b[0m\u001b[1;33m\u001b[0m\u001b[0m\n\u001b[0;32m    559\u001b[0m             \u001b[1;34mf\"({len(data)}) \"\u001b[0m\u001b[1;33m\u001b[0m\u001b[1;33m\u001b[0m\u001b[0m\n",
      "\u001b[1;31mValueError\u001b[0m: Length of values (2016) does not match length of index (10079)"
     ]
    }
   ],
   "source": []
  },
  {
   "cell_type": "code",
   "execution_count": null,
   "id": "b8638a41",
   "metadata": {},
   "outputs": [],
   "source": []
  },
  {
   "cell_type": "code",
   "execution_count": 16,
   "id": "371c4d10",
   "metadata": {},
   "outputs": [],
   "source": [
    "from matplotlib import patheffects\n",
    "\n",
    "def plotTimeSeries(series, title='', xlabel='', ylabel='', tickermap=''): \n",
    "    FIG_SIZE = (20,8)\n",
    "    ax = series.plot(figsize=FIG_SIZE, fontsize=12, linewidth=3, linestyle='-')\n",
    "    ax.set_xlabel(xlabel, fontsize=16)\n",
    "    ax.set_ylabel(ylabel, fontsize=16)\n",
    "    \n",
    "    title_text_obj = ax.set_title(title, fontsize=18, verticalalignment='bottom')\n",
    "    title_text_obj.set_path_effects([patheffects.withSimplePatchShadow()])\n",
    "\n",
    "    names = series.columns\n",
    "    if tickermap:\n",
    "        names = names.map(tickermap)\n",
    "        \n",
    "    ax.legend(names, fontsize=16)\n",
    "    plt.show()"
   ]
  },
  {
   "cell_type": "code",
   "execution_count": 18,
   "id": "76729de9",
   "metadata": {},
   "outputs": [],
   "source": [
    "import pandas as pd\n",
    "\n",
    "# Đọc dữ liệu từ file CSV (hoặc từ nguồn dữ liệu khác)\n",
    "df = pd.read_csv('stock1.csv')\n",
    "\n",
    "# Chuyển đổi cột 'Date' thành kiểu dữ liệu datetime\n",
    "df['date'] = pd.to_datetime(df['date'])\n",
    "\n",
    "# Sắp xếp dữ liệu theo ngày tăng dần\n",
    "df = df.sort_values('date')\n",
    "\n",
    "# Tạo cột 'One-Year Composite' và khởi tạo giá trị ban đầu là NaN\n",
    "df['One-Year Composite'] = pd.NaT\n",
    "\n",
    "# Lặp qua từng dòng dữ liệu\n",
    "for i, row in df.iterrows():\n",
    "    # Lấy ngày hiện tại\n",
    "    current_date = row['date']\n",
    "    \n",
    "    # Tìm ngày trước đó cách đúng 1 năm\n",
    "    one_year_ago = current_date - pd.DateOffset(years=1)\n",
    "    \n",
    "    # Lấy dữ liệu trong khoảng thời gian 1 năm trước đó\n",
    "    one_year_data = df[(df['date'] >= one_year_ago) & (df['date'] < current_date)]\n",
    "    \n",
    "    # Tính giá trị composite\n",
    "    composite_value = one_year_data['close'].mean()\n",
    "    \n",
    "    # Gán giá trị composite cho cột tương ứng\n",
    "    df.at[i, 'One-Year Composite'] = composite_value\n",
    "    \n",
    "df['Seasonal Composite'] = pd.NaT\n",
    "\n",
    "# Xác định chu kỳ mùa vụ (ví dụ: 4 quý trong năm)\n",
    "seasonal_periods = 4\n",
    "\n",
    "# Lặp qua từng chu kỳ mùa vụ\n",
    "for period in range(seasonal_periods):\n",
    "    # Tìm dữ liệu trong chu kỳ mùa vụ\n",
    "    seasonal_data = df[df['date'].dt.quarter == period + 1]\n",
    "    \n",
    "    # Tính giá trị composite cho chu kỳ mùa vụ\n",
    "    composite_value = seasonal_data['close'].mean()\n",
    "    \n",
    "    # Gán giá trị composite cho các dòng trong chu kỳ mùa vụ\n",
    "    df.loc[df['date'].dt.quarter == period + 1, 'Seasonal Composite'] = composite_value\n"
   ]
  },
  {
   "cell_type": "code",
   "execution_count": 19,
   "id": "91d7f1f1",
   "metadata": {},
   "outputs": [
    {
     "data": {
      "text/html": [
       "<div>\n",
       "<style scoped>\n",
       "    .dataframe tbody tr th:only-of-type {\n",
       "        vertical-align: middle;\n",
       "    }\n",
       "\n",
       "    .dataframe tbody tr th {\n",
       "        vertical-align: top;\n",
       "    }\n",
       "\n",
       "    .dataframe thead th {\n",
       "        text-align: right;\n",
       "    }\n",
       "</style>\n",
       "<table border=\"1\" class=\"dataframe\">\n",
       "  <thead>\n",
       "    <tr style=\"text-align: right;\">\n",
       "      <th></th>\n",
       "      <th>date</th>\n",
       "      <th>close</th>\n",
       "      <th>volume</th>\n",
       "      <th>open</th>\n",
       "      <th>high</th>\n",
       "      <th>low</th>\n",
       "      <th>One-Year Composite</th>\n",
       "      <th>Seasonal Composite</th>\n",
       "    </tr>\n",
       "  </thead>\n",
       "  <tbody>\n",
       "    <tr>\n",
       "      <th>755</th>\n",
       "      <td>2015-10-16</td>\n",
       "      <td>227.01</td>\n",
       "      <td>4327574.0000</td>\n",
       "      <td>223.04</td>\n",
       "      <td>230.4805</td>\n",
       "      <td>222.87</td>\n",
       "      <td>221.31</td>\n",
       "      <td>251.430314</td>\n",
       "    </tr>\n",
       "    <tr>\n",
       "      <th>754</th>\n",
       "      <td>2015-10-19</td>\n",
       "      <td>228.10</td>\n",
       "      <td>2506836.0000</td>\n",
       "      <td>226.50</td>\n",
       "      <td>231.1500</td>\n",
       "      <td>224.94</td>\n",
       "      <td>224.16</td>\n",
       "      <td>251.430314</td>\n",
       "    </tr>\n",
       "    <tr>\n",
       "      <th>753</th>\n",
       "      <td>2015-10-20</td>\n",
       "      <td>213.03</td>\n",
       "      <td>14877020.0000</td>\n",
       "      <td>227.72</td>\n",
       "      <td>228.6000</td>\n",
       "      <td>202.00</td>\n",
       "      <td>225.473333</td>\n",
       "      <td>251.430314</td>\n",
       "    </tr>\n",
       "    <tr>\n",
       "      <th>752</th>\n",
       "      <td>2015-10-21</td>\n",
       "      <td>210.09</td>\n",
       "      <td>4177956.0000</td>\n",
       "      <td>211.99</td>\n",
       "      <td>214.8100</td>\n",
       "      <td>208.80</td>\n",
       "      <td>222.3625</td>\n",
       "      <td>251.430314</td>\n",
       "    </tr>\n",
       "    <tr>\n",
       "      <th>751</th>\n",
       "      <td>2015-10-22</td>\n",
       "      <td>211.72</td>\n",
       "      <td>2818801.0000</td>\n",
       "      <td>211.56</td>\n",
       "      <td>215.7500</td>\n",
       "      <td>209.40</td>\n",
       "      <td>219.908</td>\n",
       "      <td>251.430314</td>\n",
       "    </tr>\n",
       "  </tbody>\n",
       "</table>\n",
       "</div>"
      ],
      "text/plain": [
       "          date   close         volume    open      high     low  \\\n",
       "755 2015-10-16  227.01   4327574.0000  223.04  230.4805  222.87   \n",
       "754 2015-10-19  228.10   2506836.0000  226.50  231.1500  224.94   \n",
       "753 2015-10-20  213.03  14877020.0000  227.72  228.6000  202.00   \n",
       "752 2015-10-21  210.09   4177956.0000  211.99  214.8100  208.80   \n",
       "751 2015-10-22  211.72   2818801.0000  211.56  215.7500  209.40   \n",
       "\n",
       "    One-Year Composite Seasonal Composite  \n",
       "755             221.31         251.430314  \n",
       "754             224.16         251.430314  \n",
       "753         225.473333         251.430314  \n",
       "752           222.3625         251.430314  \n",
       "751            219.908         251.430314  "
      ]
     },
     "execution_count": 19,
     "metadata": {},
     "output_type": "execute_result"
    }
   ],
   "source": [
    "df = df.dropna()\n",
    "df.head()"
   ]
  },
  {
   "cell_type": "code",
   "execution_count": 20,
   "id": "cc1e6b7b",
   "metadata": {},
   "outputs": [
    {
     "data": {
      "image/png": "[encoded data removed]",
      "text/plain": [
       "<Figure size 2000x800 with 1 Axes>"
      ]
     },
     "metadata": {},
     "output_type": "display_data"
    }
   ],
   "source": [
    "df['date'] = pd.to_datetime(df['date'])\n",
    "composite_data = pd.DataFrame({'date': df['date'], 'One-Year Composite': df['One-Year Composite'], 'Seasonal Composite': df['Seasonal Composite']})\n",
    "plotTimeSeries(composite_data.set_index('date'), title='Biểu đồ Composite', xlabel='Date', ylabel='Composite')\n"
   ]
  },
  {
   "cell_type": "code",
   "execution_count": null,
   "id": "8d0e6aba",
   "metadata": {},
   "outputs": [],
   "source": []
  },
  {
   "cell_type": "code",
   "execution_count": null,
   "id": "2de25bed",
   "metadata": {},
   "outputs": [],
   "source": []
  }
 ],
 "metadata": {
  "kernelspec": {
   "display_name": "Python 3 (ipykernel)",
   "language": "python",
   "name": "python3"
  },
  "language_info": {
   "codemirror_mode": {
    "name": "ipython",
    "version": 3
   },
   "file_extension": ".py",
   "mimetype": "text/x-python",
   "name": "python",
   "nbconvert_exporter": "python",
   "pygments_lexer": "ipython3",
   "version": "3.10.9"
  }
 },
 "nbformat": 4,
 "nbformat_minor": 5
}
